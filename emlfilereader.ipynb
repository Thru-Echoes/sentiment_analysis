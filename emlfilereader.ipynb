{
 "cells": [
  {
   "cell_type": "code",
   "execution_count": 20,
   "id": "8a328dbc",
   "metadata": {},
   "outputs": [],
   "source": [
    "import re\n",
    "import os\n",
    "\n",
    "#setting working directory to eml_files\n",
    "os.chdir('eml_files')"
   ]
  },
  {
   "cell_type": "code",
   "execution_count": null,
   "id": "82885060",
   "metadata": {},
   "outputs": [
    {
     "data": {
      "text/plain": [
       "['diario.elmundo.sv/nacionales/organizaciones-dicen-que-el-sistema-judicial-esta-a-prueba-tras-la-entrega-de-mas-de-59000-firmas-contra-de-la-mineria',\n",
       " 'www.revistafactum.com/slm-grok/',\n",
       " 'www.laprensagrafica.com/tendencias/Un-Pikachu-revolucionario-un-manifestante-disfrazado-de-Pokemon-se-unio-a-las-protestas-en-Turquia-20250329-0020.html',\n",
       " 'www.laprensagrafica.com/opinion/Las-locuras-del-emperador-II-20250328-0081.html',\n",
       " 'www.elsalvador.com/opinion/editoriales/mineria-/1209390/2025/',\n",
       " 'diario.elmundo.sv/el-mundo/un-pueblo-del-sur-de-honduras-podria-perder-su-historica-iglesia-por-la-explotacion-minera',\n",
       " 'www.elsalvador.com/noticias/nacional/mercados-mercado-cuscatlan-alcaldia-de-san-salvador-centro-/1209302/2025/']"
      ]
     },
     "execution_count": 22,
     "metadata": {},
     "output_type": "execute_result"
    }
   ],
   "source": [
    "def urls_in_file(file_name):\n",
    "    \"\"\" Takes an .eml file name as a string and returns a list of all unique urls linking to news sources \"\"\"\n",
    "    \n",
    "    #reads the file and removes newlines and equal signs (which are placed at the end of each line)\n",
    "    with open(file_name, 'r') as file:\n",
    "        textfile = file.read().replace('\\n', '').replace('=', '')\n",
    "    \n",
    "    #any strings without white spaces starting with 3Dhttps:// and ending with &amp, non-greedy matching\n",
    "    valid_urls = re.findall('3Dhttps://(\\S*?)?&amp', textfile)\n",
    "    \n",
    "    #creates a list of each unique url (removes duplicates)\n",
    "    unique_urls = list(set(valid_urls))\n",
    "    \n",
    "    return unique_urls\n",
    "\n",
    "#demonstrates the function with the first file in the folder\n",
    "urls_in_file('1. El Salvador Mineria 1-94 eml/Google Alert - El Salvador minería_1.eml')"
   ]
  },
  {
   "cell_type": "code",
   "execution_count": 31,
   "id": "ce63e34b",
   "metadata": {},
   "outputs": [
    {
     "data": {
      "text/plain": [
       "['diario1.com/zona-deportiva/2025/01/el-real-madrid-se-regala-una-goleada-en-cartagena-antes-de-la-supercopa/',\n",
       " 'www.elsalvador.com/opinion/editoriales/mineria-/1192178/2025/',\n",
       " 'lapagina.com.sv/deportes/ancelotti-se-lleva-a-arabia-a-cuatro-canteranos-y-a-alaba-para-buscar-el-tercer-titulo-de-la-temporada/',\n",
       " 'www.elsalvador.com/noticias/nacional/gobierno-abusa-de-sus-facultades-dice-secretario-fmln/1192326/2025/',\n",
       " 'www.contrapunto.com.sv/muro-colapso-tras-sismo-en-san-salvador-y-dejo-a-una-persona-herida/']"
      ]
     },
     "execution_count": 31,
     "metadata": {},
     "output_type": "execute_result"
    }
   ],
   "source": [
    "def urls_in_folder(folder_name):\n",
    "    \"\"\" Takes a folder of .eml files as a string and returns a list of all unique urls contained in each of the \n",
    "    files in the folder \n",
    "\"\"\"\n",
    "    \n",
    "    #creates a list of all file names in folder_name\n",
    "    filenames = os.listdir(folder_name)\n",
    "    filenames = [os.path.join(folder_name, file) for file in filenames]\n",
    "    \n",
    "    #creates a list to store the unique urls found in each file using urls_in_file function\n",
    "    all_urls = []\n",
    "    for file in filenames:\n",
    "        urls = urls_in_file(file)\n",
    "        all_urls.extend(urls)\n",
    "    \n",
    "    return all_urls\n",
    "\n",
    "#demonstrates the function with folder '1. El Salvador Mineria 1-94 eml'\n",
    "urls_in_folder('1. El Salvador Mineria 1-94 eml')[:5]"
   ]
  }
 ],
 "metadata": {
  "kernelspec": {
   "display_name": "Python 3",
   "language": "python",
   "name": "python3"
  },
  "language_info": {
   "codemirror_mode": {
    "name": "ipython",
    "version": 3
   },
   "file_extension": ".py",
   "mimetype": "text/x-python",
   "name": "python",
   "nbconvert_exporter": "python",
   "pygments_lexer": "ipython3",
   "version": "3.11.1"
  }
 },
 "nbformat": 4,
 "nbformat_minor": 5
}
