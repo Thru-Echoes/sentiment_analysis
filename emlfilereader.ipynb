{
 "cells": [
  {
   "cell_type": "code",
   "execution_count": 1,
   "id": "8a328dbc",
   "metadata": {},
   "outputs": [
    {
     "name": "stdout",
     "output_type": "stream",
     "text": [
      "Requirement already satisfied: pandas in /Library/Frameworks/Python.framework/Versions/3.11/lib/python3.11/site-packages (2.3.1)\n",
      "Requirement already satisfied: numpy>=1.23.2 in /Library/Frameworks/Python.framework/Versions/3.11/lib/python3.11/site-packages (from pandas) (2.3.2)\n",
      "Requirement already satisfied: python-dateutil>=2.8.2 in /Users/erindominguez/Library/Python/3.11/lib/python/site-packages (from pandas) (2.8.2)\n",
      "Requirement already satisfied: pytz>=2020.1 in /Library/Frameworks/Python.framework/Versions/3.11/lib/python3.11/site-packages (from pandas) (2025.2)\n",
      "Requirement already satisfied: tzdata>=2022.7 in /Library/Frameworks/Python.framework/Versions/3.11/lib/python3.11/site-packages (from pandas) (2025.2)\n",
      "Requirement already satisfied: six>=1.5 in /Users/erindominguez/Library/Python/3.11/lib/python/site-packages (from python-dateutil>=2.8.2->pandas) (1.16.0)\n",
      "Note: you may need to restart the kernel to use updated packages.\n",
      "Requirement already satisfied: pip in /Library/Frameworks/Python.framework/Versions/3.11/lib/python3.11/site-packages (25.2)\n",
      "Note: you may need to restart the kernel to use updated packages.\n",
      "Requirement already satisfied: requests in /Library/Frameworks/Python.framework/Versions/3.11/lib/python3.11/site-packages (2.32.4)\n",
      "Requirement already satisfied: charset_normalizer<4,>=2 in /Library/Frameworks/Python.framework/Versions/3.11/lib/python3.11/site-packages (from requests) (3.4.2)\n",
      "Requirement already satisfied: idna<4,>=2.5 in /Library/Frameworks/Python.framework/Versions/3.11/lib/python3.11/site-packages (from requests) (3.10)\n",
      "Requirement already satisfied: urllib3<3,>=1.21.1 in /Library/Frameworks/Python.framework/Versions/3.11/lib/python3.11/site-packages (from requests) (2.5.0)\n",
      "Requirement already satisfied: certifi>=2017.4.17 in /Library/Frameworks/Python.framework/Versions/3.11/lib/python3.11/site-packages (from requests) (2025.7.14)\n",
      "Note: you may need to restart the kernel to use updated packages.\n",
      "Requirement already satisfied: bs4 in /Library/Frameworks/Python.framework/Versions/3.11/lib/python3.11/site-packages (0.0.2)\n",
      "Requirement already satisfied: beautifulsoup4 in /Library/Frameworks/Python.framework/Versions/3.11/lib/python3.11/site-packages (from bs4) (4.13.4)\n",
      "Requirement already satisfied: soupsieve>1.2 in /Library/Frameworks/Python.framework/Versions/3.11/lib/python3.11/site-packages (from beautifulsoup4->bs4) (2.7)\n",
      "Requirement already satisfied: typing-extensions>=4.0.0 in /Library/Frameworks/Python.framework/Versions/3.11/lib/python3.11/site-packages (from beautifulsoup4->bs4) (4.14.1)\n",
      "Note: you may need to restart the kernel to use updated packages.\n"
     ]
    }
   ],
   "source": [
    "import re\n",
    "import os\n",
    "\n",
    "%pip install pandas\n",
    "import pandas as pd\n",
    "\n",
    "%pip install --upgrade pip\n",
    "\n",
    "%pip install requests\n",
    "import requests\n",
    "\n",
    "%pip install bs4\n",
    "from bs4 import BeautifulSoup"
   ]
  },
  {
   "cell_type": "code",
   "execution_count": 2,
   "id": "740b6d30",
   "metadata": {},
   "outputs": [],
   "source": [
    "#setting working directory to eml_files\n",
    "os.chdir('eml_files')"
   ]
  },
  {
   "cell_type": "code",
   "execution_count": 4,
   "id": "82885060",
   "metadata": {},
   "outputs": [
    {
     "data": {
      "text/plain": [
       "['https://diario.elmundo.sv/nacionales/organizaciones-dicen-que-el-sistema-judicial-esta-a-prueba-tras-la-entrega-de-mas-de-59000-firmas-contra-de-la-mineria',\n",
       " 'https://www.elsalvador.com/opinion/editoriales/mineria-/1209390/2025/',\n",
       " 'https://www.laprensagrafica.com/tendencias/Un-Pikachu-revolucionario-un-manifestante-disfrazado-de-Pokemon-se-unio-a-las-protestas-en-Turquia-20250329-0020.html',\n",
       " 'https://www.elsalvador.com/noticias/nacional/mercados-mercado-cuscatlan-alcaldia-de-san-salvador-centro-/1209302/2025/',\n",
       " 'https://www.laprensagrafica.com/opinion/Las-locuras-del-emperador-II-20250328-0081.html',\n",
       " 'https://www.revistafactum.com/slm-grok/',\n",
       " 'https://diario.elmundo.sv/el-mundo/un-pueblo-del-sur-de-honduras-podria-perder-su-historica-iglesia-por-la-explotacion-minera']"
      ]
     },
     "execution_count": 4,
     "metadata": {},
     "output_type": "execute_result"
    }
   ],
   "source": [
    "def urls_in_file(file_name):\n",
    "    \"\"\" Takes an .eml file name as a string and returns a list of all unique urls linking to news sources \"\"\"\n",
    "\n",
    "    #reads the file and removes newlines and equal signs (which are placed at the end of each line)\n",
    "    with open(file_name, 'r') as file:\n",
    "        textfile = file.read().replace('\\n', '').replace('=', '')\n",
    "    \n",
    "    #any strings without white spaces starting with 3Dhttps:// and ending with &amp, non-greedy matching\n",
    "    valid_urls = re.findall('3D(https://\\S*?)?&amp', textfile)\n",
    "    \n",
    "    #creates a list of each unique url (removes duplicates)\n",
    "    unique_urls = list(set(valid_urls))\n",
    "    \n",
    "    return unique_urls\n",
    "\n",
    "#demonstrates the function with the first file in the folder\n",
    "urls_in_file('1. El Salvador Mineria 1-94 eml/Google Alert - El Salvador minería_1.eml')"
   ]
  },
  {
   "cell_type": "code",
   "execution_count": 5,
   "id": "ce63e34b",
   "metadata": {},
   "outputs": [
    {
     "data": {
      "text/plain": [
       "['https://www.laprensagrafica.com/elsalvador/El-Chino-Flores-secretario-del-FMLN-dice-que-reactivara-al-partido-20250107-0097.html',\n",
       " 'https://diario1.com/zona-deportiva/2025/01/el-real-madrid-se-regala-una-goleada-en-cartagena-antes-de-la-supercopa/',\n",
       " 'https://lapagina.com.sv/deportes/ancelotti-se-lleva-a-arabia-a-cuatro-canteranos-y-a-alaba-para-buscar-el-tercer-titulo-de-la-temporada/',\n",
       " 'https://www.elsalvador.com/opinion/editoriales/mineria-/1192178/2025/',\n",
       " 'https://www.contrapunto.com.sv/muro-colapso-tras-sismo-en-san-salvador-y-dejo-a-una-persona-herida/']"
      ]
     },
     "execution_count": 5,
     "metadata": {},
     "output_type": "execute_result"
    }
   ],
   "source": [
    "def urls_in_folder(folder_name):\n",
    "    \"\"\" Takes a folder of .eml files as a string and returns a list of all unique urls contained in each of the \n",
    "    files in the folder \n",
    "\"\"\"\n",
    "    \n",
    "    #creates a list of all file names in folder_name\n",
    "    filenames = os.listdir(folder_name)\n",
    "    filenames = [os.path.join(folder_name, file) for file in filenames]\n",
    "    \n",
    "    #creates a list to store the unique urls found in each file using urls_in_file function\n",
    "    all_urls = []\n",
    "    for file in filenames:\n",
    "        urls = urls_in_file(file)\n",
    "        all_urls.extend(urls)\n",
    "    \n",
    "    return all_urls\n",
    "\n",
    "#demonstrates the function with folder '1. El Salvador Mineria 1-94 eml'\n",
    "urls_in_folder('1. El Salvador Mineria 1-94 eml')[:5]"
   ]
  },
  {
   "cell_type": "code",
   "execution_count": 17,
   "id": "877ab3fc",
   "metadata": {},
   "outputs": [
    {
     "data": {
      "text/plain": [
       "'Una persona quedó atrapada tras el colapso de un muro en San Salvador, provocado por un sismo. Fue rescatada y atendida por Cruz Verde Salvadoreña. Una persona quedó atrapada bajo los escombros de un muro que colapsó en la colonia Las Flores, calle Agua Caliente, San Salvador Este, tras el sismo registrado la tarde del lunes 5 de enero a las 5:37 p. m.; La víctima, cuya identidad no ha sido revelada, fue localizada por un residente del lugar y posteriormente rescatada por elementos de Cruz Verde Salvadoreña, quienes le brindaron primeros auxilios antes de trasladarla a un centro asistencial. Este sismo fue una de las réplicas del movimiento telúrico de magnitud 6.3 que ocurrió frente a la costa de La Paz a las 11:18 a.m. del domingo 5 de enero. Según el Ministerio de Medio Ambiente, desde entonces se han registrado 147 réplicas, de las cuales 21 han sido sentidas por la población. Las autoridades explicaron que esta actividad sísmica es producto del proceso de subducción entre las placas de Cocos y Caribe. No se reporta amenaza de tsunami para las costas salvadoreñas.'"
      ]
     },
     "execution_count": 17,
     "metadata": {},
     "output_type": "execute_result"
    }
   ],
   "source": [
    "def extract_website_text(url):\n",
    "    \"\"\"Takes in a url as a string and returns the text content of the webpage, including headers, footers, and paragraphs.\"\"\"\n",
    "    try:\n",
    "        response = requests.get(url)\n",
    "        response.raise_for_status()\n",
    "        soup = BeautifulSoup(response.content, 'html.parser')\n",
    "        extracted_text = soup.get_text(separator='\\n', strip=True)\n",
    "        return extracted_text\n",
    "    except requests.RequestException as e:\n",
    "        print(f\"Error fetching {url}: {e}\")\n",
    "        return None\n",
    "    \n",
    "\n",
    "def clean_extracted_text(text, section='body', cutoff=20):\n",
    "    \"\"\"Cleans the text extracted using extract_website_text and removes short paragraphs (headers, footers, etc...) based on word count cutoff\"\"\"\n",
    "    if text is None:\n",
    "        return None\n",
    "    elif section == 'body':\n",
    "        split = text.split('\\n') #split the text into a list divided every time there is a new line \\n\n",
    "        body = [paragraph for paragraph in split if len(paragraph.split()) > cutoff] #remove paragraphs with less than CUTOFF words.\n",
    "        body_text = ' '.join(body) #combine remaining text into a single string\n",
    "        return body_text\n",
    "    elif section == 'header':\n",
    "        # Assuming the header is the first part of the text before the first paragraph\n",
    "        header = text.split('\\n')[0] if '\\n' in text else text.split('-')[0]\n",
    "        return header.strip()\n",
    "\n",
    "\n",
    "example_text = extract_website_text('https://www.contrapunto.com.sv/muro-colapso-tras-sismo-en-san-salvador-y-dejo-a-una-persona-herida/')\n",
    "clean_extracted_text(example_text, section='body')"
   ]
  },
  {
   "cell_type": "code",
   "execution_count": 18,
   "id": "ec74c695",
   "metadata": {},
   "outputs": [],
   "source": [
    "def extract_info_from_emls_in_folder(folder_name):\n",
    "    \"\"\"Extracts text from all .eml files in a folder and returns a table filled with urls, article titles, and body text.\"\"\"\n",
    "    \n",
    "    urls = urls_in_folder(folder_name)\n",
    "    \n",
    "    raw_url_text = [extract_website_text(url) for url in urls]\n",
    "    cleaned_text = [clean_extracted_text(text, section='body') for text in raw_url_text]\n",
    "    extracted_info = pd.DataFrame({\n",
    "        'url': urls_in_folder,\n",
    "        'title': [clean_extracted_text(text, section='header') for text in raw_url_text],\n",
    "        'body': cleaned_text\n",
    "    })\n",
    "    \n",
    "    return extracted_info\n",
    "\n",
    "#mineria_1 = extract_info_from_emls_in_folder('1. El Salvador Mineria 1-94 eml')\n",
    "#mineria_1"
   ]
  },
  {
   "cell_type": "code",
   "execution_count": 19,
   "id": "bec3c78e",
   "metadata": {},
   "outputs": [
    {
     "name": "stdout",
     "output_type": "stream",
     "text": [
      "Error fetching https://www.laprensagrafica.com/tendencias/Un-Pikachu-revolucionario-un-manifestante-disfrazado-de-Pokemon-se-unio-a-las-protestas-en-Turquia-20250329-0020.html: 403 Client Error: Forbidden for url: https://www.laprensagrafica.com/tendencias/Un-Pikachu-revolucionario-un-manifestante-disfrazado-de-Pokemon-se-unio-a-las-protestas-en-Turquia-20250329-0020.html\n",
      "Error fetching https://www.laprensagrafica.com/opinion/Las-locuras-del-emperador-II-20250328-0081.html: 403 Client Error: Forbidden for url: https://www.laprensagrafica.com/opinion/Las-locuras-del-emperador-II-20250328-0081.html\n"
     ]
    },
    {
     "data": {
      "text/html": [
       "<div>\n",
       "<style scoped>\n",
       "    .dataframe tbody tr th:only-of-type {\n",
       "        vertical-align: middle;\n",
       "    }\n",
       "\n",
       "    .dataframe tbody tr th {\n",
       "        vertical-align: top;\n",
       "    }\n",
       "\n",
       "    .dataframe thead th {\n",
       "        text-align: right;\n",
       "    }\n",
       "</style>\n",
       "<table border=\"1\" class=\"dataframe\">\n",
       "  <thead>\n",
       "    <tr style=\"text-align: right;\">\n",
       "      <th></th>\n",
       "      <th>url</th>\n",
       "      <th>title</th>\n",
       "      <th>body</th>\n",
       "    </tr>\n",
       "  </thead>\n",
       "  <tbody>\n",
       "    <tr>\n",
       "      <th>0</th>\n",
       "      <td>https://diario.elmundo.sv/nacionales/organizac...</td>\n",
       "      <td>Organizaciones dicen que el sistema judicial e...</td>\n",
       "      <td>Organizaciones dicen que el sistema judicial e...</td>\n",
       "    </tr>\n",
       "    <tr>\n",
       "      <th>1</th>\n",
       "      <td>https://www.elsalvador.com/opinion/editoriales...</td>\n",
       "      <td>¿Por qué se involucran las iglesias en el tema...</td>\n",
       "      <td>El periodismo que hacemos requiere tiempo, esf...</td>\n",
       "    </tr>\n",
       "    <tr>\n",
       "      <th>2</th>\n",
       "      <td>https://www.laprensagrafica.com/tendencias/Un-...</td>\n",
       "      <td>None</td>\n",
       "      <td>None</td>\n",
       "    </tr>\n",
       "    <tr>\n",
       "      <th>3</th>\n",
       "      <td>https://www.elsalvador.com/noticias/nacional/m...</td>\n",
       "      <td>El mercado Cuscatlán funciona apenas al 40% de...</td>\n",
       "      <td>El periodismo que hacemos requiere tiempo, esf...</td>\n",
       "    </tr>\n",
       "    <tr>\n",
       "      <th>4</th>\n",
       "      <td>https://www.laprensagrafica.com/opinion/Las-lo...</td>\n",
       "      <td>None</td>\n",
       "      <td>None</td>\n",
       "    </tr>\n",
       "    <tr>\n",
       "      <th>5</th>\n",
       "      <td>https://www.revistafactum.com/slm-grok/</td>\n",
       "      <td>La obsesión de Bukele con la minería y con su ...</td>\n",
       "      <td>En el episodio 9 de Sobre La Mesa, el podcast ...</td>\n",
       "    </tr>\n",
       "    <tr>\n",
       "      <th>6</th>\n",
       "      <td>https://diario.elmundo.sv/el-mundo/un-pueblo-d...</td>\n",
       "      <td>Un pueblo del sur de Honduras podría perder su...</td>\n",
       "      <td>La minera artesanal opera en el barrio El Cent...</td>\n",
       "    </tr>\n",
       "  </tbody>\n",
       "</table>\n",
       "</div>"
      ],
      "text/plain": [
       "                                                 url  \\\n",
       "0  https://diario.elmundo.sv/nacionales/organizac...   \n",
       "1  https://www.elsalvador.com/opinion/editoriales...   \n",
       "2  https://www.laprensagrafica.com/tendencias/Un-...   \n",
       "3  https://www.elsalvador.com/noticias/nacional/m...   \n",
       "4  https://www.laprensagrafica.com/opinion/Las-lo...   \n",
       "5            https://www.revistafactum.com/slm-grok/   \n",
       "6  https://diario.elmundo.sv/el-mundo/un-pueblo-d...   \n",
       "\n",
       "                                               title  \\\n",
       "0  Organizaciones dicen que el sistema judicial e...   \n",
       "1  ¿Por qué se involucran las iglesias en el tema...   \n",
       "2                                               None   \n",
       "3  El mercado Cuscatlán funciona apenas al 40% de...   \n",
       "4                                               None   \n",
       "5  La obsesión de Bukele con la minería y con su ...   \n",
       "6  Un pueblo del sur de Honduras podría perder su...   \n",
       "\n",
       "                                                body  \n",
       "0  Organizaciones dicen que el sistema judicial e...  \n",
       "1  El periodismo que hacemos requiere tiempo, esf...  \n",
       "2                                               None  \n",
       "3  El periodismo que hacemos requiere tiempo, esf...  \n",
       "4                                               None  \n",
       "5  En el episodio 9 de Sobre La Mesa, el podcast ...  \n",
       "6  La minera artesanal opera en el barrio El Cent...  "
      ]
     },
     "execution_count": 19,
     "metadata": {},
     "output_type": "execute_result"
    }
   ],
   "source": [
    "def emls_in_file_to_table(file_path):\n",
    "    \"\"\"Extracts text from the file_path in a folder and returns a table filled with urls, article titles, and body text.\"\"\"\n",
    "    \n",
    "    urls = [url for url in urls_in_file(file_path)]\n",
    "    \n",
    "    raw_url_text = [extract_website_text(url) for url in urls]\n",
    "    cleaned_text = [clean_extracted_text(text, section='body') for text in raw_url_text]\n",
    "    extracted_info = pd.DataFrame({\n",
    "        'url': urls,\n",
    "        'title': [clean_extracted_text(text, section='header') for text in raw_url_text],\n",
    "        'body': [clean_extracted_text(text, section='body') for text in raw_url_text]\n",
    "    })\n",
    "    \n",
    "    return extracted_info\n",
    "\n",
    "mineria_2 = emls_in_file_to_table('1. El Salvador Mineria 1-94 eml/Google Alert - El Salvador minería_1.eml')\n",
    "mineria_2"
   ]
  },
  {
   "cell_type": "code",
   "execution_count": null,
   "id": "9749a6c8",
   "metadata": {},
   "outputs": [],
   "source": []
  }
 ],
 "metadata": {
  "kernelspec": {
   "display_name": "Python 3",
   "language": "python",
   "name": "python3"
  },
  "language_info": {
   "codemirror_mode": {
    "name": "ipython",
    "version": 3
   },
   "file_extension": ".py",
   "mimetype": "text/x-python",
   "name": "python",
   "nbconvert_exporter": "python",
   "pygments_lexer": "ipython3",
   "version": "3.11.1"
  }
 },
 "nbformat": 4,
 "nbformat_minor": 5
}
